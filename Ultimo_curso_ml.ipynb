{
 "cells": [
  {
   "cell_type": "markdown",
   "id": "8affaede",
   "metadata": {},
   "source": [
    "Inicio de ejercicios"
   ]
  },
  {
   "cell_type": "code",
   "execution_count": 1,
   "id": "1bd3a035",
   "metadata": {},
   "outputs": [],
   "source": [
    "import numpy as np"
   ]
  }
 ],
 "metadata": {
  "kernelspec": {
   "display_name": "sci",
   "language": "python",
   "name": "python3"
  },
  "language_info": {
   "codemirror_mode": {
    "name": "ipython",
    "version": 3
   },
   "file_extension": ".py",
   "mimetype": "text/x-python",
   "name": "python",
   "nbconvert_exporter": "python",
   "pygments_lexer": "ipython3",
   "version": "3.13.2"
  }
 },
 "nbformat": 4,
 "nbformat_minor": 5
}
